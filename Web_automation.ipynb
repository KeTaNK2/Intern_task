{
 "cells": [
  {
   "cell_type": "markdown",
   "metadata": {},
   "source": [
    "## Importing relevant libraries"
   ]
  },
  {
   "cell_type": "code",
   "execution_count": 11,
   "metadata": {},
   "outputs": [],
   "source": [
    "import pandas as pd\n",
    "from selenium import webdriver\n",
    "from selenium.webdriver.common.keys import Keys\n",
    "import time"
   ]
  },
  {
   "cell_type": "markdown",
   "metadata": {},
   "source": [
    "## Class for web automation"
   ]
  },
  {
   "cell_type": "code",
   "execution_count": 32,
   "metadata": {},
   "outputs": [],
   "source": [
    "class Web_auto :\n",
    "    def __init__ (self) :\n",
    "        pass\n",
    "    def search(self,df):\n",
    "        try:\n",
    "            driver = webdriver.Firefox()\n",
    "            print('Firefox window has opened')\n",
    "        except :\n",
    "            print('There is some error please check')\n",
    "        Tasks=df['Search'].to_list()\n",
    "        for query in Tasks:\n",
    "            driver.get(\"https://www.google.com\")\n",
    "            search_box = driver.find_element_by_name(\"q\")\n",
    "            search_box.send_keys(query)\n",
    "            search_box.submit()\n",
    "            time.sleep(4)\n",
    "        driver.close()\n",
    "        print('Task has completed !!!')"
   ]
  },
  {
   "cell_type": "markdown",
   "metadata": {},
   "source": [
    "## 1. Read data from excel sheet"
   ]
  },
  {
   "cell_type": "code",
   "execution_count": 30,
   "metadata": {},
   "outputs": [
    {
     "name": "stdout",
     "output_type": "stream",
     "text": [
      "               Search\n",
      "0               Apple\n",
      "1            Samsung \n",
      "2  president of India\n",
      "3   who is steve jobs\n"
     ]
    }
   ],
   "source": [
    "table = pd.read_excel('task.xlsx')\n",
    "print(table)"
   ]
  },
  {
   "cell_type": "markdown",
   "metadata": {},
   "source": [
    "## 2. Using web automation feed that data into google and search one by one from excel sheet."
   ]
  },
  {
   "cell_type": "code",
   "execution_count": 31,
   "metadata": {},
   "outputs": [
    {
     "name": "stdout",
     "output_type": "stream",
     "text": [
      "Firefox window has opened\n",
      "Task has completed !!!\n"
     ]
    }
   ],
   "source": [
    "automate=Web_auto()\n",
    "automate.search(table)"
   ]
  },
  {
   "cell_type": "code",
   "execution_count": null,
   "metadata": {},
   "outputs": [],
   "source": []
  },
  {
   "cell_type": "code",
   "execution_count": null,
   "metadata": {},
   "outputs": [],
   "source": []
  }
 ],
 "metadata": {
  "kernelspec": {
   "display_name": "Python 3",
   "language": "python",
   "name": "python3"
  },
  "language_info": {
   "codemirror_mode": {
    "name": "ipython",
    "version": 3
   },
   "file_extension": ".py",
   "mimetype": "text/x-python",
   "name": "python",
   "nbconvert_exporter": "python",
   "pygments_lexer": "ipython3",
   "version": "3.6.10"
  }
 },
 "nbformat": 4,
 "nbformat_minor": 4
}
